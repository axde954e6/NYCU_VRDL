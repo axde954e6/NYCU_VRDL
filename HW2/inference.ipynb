{
  "nbformat": 4,
  "nbformat_minor": 0,
  "metadata": {
    "colab": {
      "name": "inference.ipynb",
      "provenance": [],
      "collapsed_sections": [],
      "toc_visible": true
    },
    "kernelspec": {
      "name": "python3",
      "display_name": "Python 3"
    },
    "language_info": {
      "name": "python"
    },
    "accelerator": "GPU"
  },
  "cells": [
    {
      "cell_type": "code",
      "metadata": {
        "id": "QmSq3Aj4yIUp",
        "colab": {
          "base_uri": "https://localhost:8080/"
        },
        "outputId": "1ab9def2-d1cb-42ed-fec1-dbfe66ee28c6"
      },
      "source": [
        "from google.colab import drive\n",
        "\n",
        "drive.mount('/content/gdrive/', force_remount=True)\n",
        "\n",
        "!ln -s '/content/gdrive/MyDrive/VRDL_HW2' /WORK"
      ],
      "execution_count": 1,
      "outputs": [
        {
          "output_type": "stream",
          "name": "stdout",
          "text": [
            "Mounted at /content/gdrive/\n"
          ]
        }
      ]
    },
    {
      "cell_type": "markdown",
      "metadata": {
        "id": "3y56hXoE22pJ"
      },
      "source": [
        "# GIT"
      ]
    },
    {
      "cell_type": "code",
      "metadata": {
        "id": "b0b-fEk-yOop"
      },
      "source": [
        "%cd '/content/gdrive/My Drive/VRDL_HW2'\n",
        "!git clone https://github.com/AlexeyAB/darknet"
      ],
      "execution_count": null,
      "outputs": []
    },
    {
      "cell_type": "code",
      "metadata": {
        "id": "G-0pfnqizEs9"
      },
      "source": [
        "%cd /content/gdrive/My Drive/VRDL_HW2/darknet"
      ],
      "execution_count": null,
      "outputs": []
    },
    {
      "cell_type": "code",
      "metadata": {
        "id": "vCF9c3sMylmx"
      },
      "source": [
        "!sed -i 's/OPENCV=0/OPENCV=1/' Makefile\n",
        "!sed -i 's/GPU=0/GPU=1/' Makefile\n",
        "!sed -i 's/CUDNN=0/CUDNN=1/' Makefile\n",
        "!make"
      ],
      "execution_count": null,
      "outputs": []
    },
    {
      "cell_type": "markdown",
      "metadata": {
        "id": "wG1Ttx4o28Li"
      },
      "source": [
        "# Create Data"
      ]
    },
    {
      "cell_type": "markdown",
      "metadata": {
        "id": "MlQt7NWR5ZHk"
      },
      "source": [
        "### training data"
      ]
    },
    {
      "cell_type": "code",
      "metadata": {
        "id": "MFbiN8tD3E3D",
        "colab": {
          "base_uri": "https://localhost:8080/"
        },
        "outputId": "75a473d6-81b0-4359-f2da-66c10bd846cf"
      },
      "source": [
        "%cd /content/gdrive/MyDrive/VRDL_HW2/darknet"
      ],
      "execution_count": null,
      "outputs": [
        {
          "output_type": "stream",
          "name": "stdout",
          "text": [
            "/content/gdrive/MyDrive/VRDL_HW2/darknet\n"
          ]
        }
      ]
    },
    {
      "cell_type": "code",
      "metadata": {
        "id": "4Ffp7ezxz7TL"
      },
      "source": [
        "import glob\n",
        "import pandas as pd\n",
        "import numpy as np\n",
        "json_file_pathlist = glob.glob(\"data/train/*.png\")\n",
        "print(json_file_pathlist)"
      ],
      "execution_count": null,
      "outputs": []
    },
    {
      "cell_type": "code",
      "metadata": {
        "id": "eSEZijBL3Pgx"
      },
      "source": [
        "len(json_file_pathlist)"
      ],
      "execution_count": null,
      "outputs": []
    },
    {
      "cell_type": "code",
      "metadata": {
        "id": "iuWDZI4t3Qx2"
      },
      "source": [
        "df = pd.DataFrame({\"image_path\": json_file_pathlist})\n",
        "df.head()"
      ],
      "execution_count": null,
      "outputs": []
    },
    {
      "cell_type": "code",
      "metadata": {
        "id": "57pqVPKCqpEZ"
      },
      "source": [
        "np.random.seed(5)\n",
        "shuffle_index = np.random.permutation(df.shape[0])\n",
        "training_ratio = int(len(shuffle_index) * 0.9)\n",
        "train_index = shuffle_index[0:training_ratio]\n",
        "valid_index = shuffle_index[training_ratio::]\n",
        "training_data = df.iloc[train_index, :]\n",
        "valid_data = df.iloc[valid_index, :]"
      ],
      "execution_count": null,
      "outputs": []
    },
    {
      "cell_type": "code",
      "metadata": {
        "id": "6yqA4-v55K8P"
      },
      "source": [
        "training_data.to_csv(\"data/train.txt\", index=None, header=None)\n",
        "valid_data.to_csv(\"data/valid.txt\", index=None, header=None)"
      ],
      "execution_count": null,
      "outputs": []
    },
    {
      "cell_type": "markdown",
      "metadata": {
        "id": "cooZSsXv5dKk"
      },
      "source": [
        "### test data"
      ]
    },
    {
      "cell_type": "code",
      "metadata": {
        "id": "4aoeMlir5THK"
      },
      "source": [
        "import glob\n",
        "import pandas as pd\n",
        "import numpy as np\n",
        "json_file_pathlist = glob.glob(\"data/test/*.png\")\n",
        "print(json_file_pathlist)"
      ],
      "execution_count": null,
      "outputs": []
    },
    {
      "cell_type": "code",
      "metadata": {
        "id": "D4cm39315loK"
      },
      "source": [
        "len(json_file_pathlist)"
      ],
      "execution_count": null,
      "outputs": []
    },
    {
      "cell_type": "code",
      "metadata": {
        "id": "_G-rZg4X5oIU"
      },
      "source": [
        "df = pd.DataFrame({\"image_path\": json_file_pathlist})\n",
        "df.head()"
      ],
      "execution_count": null,
      "outputs": []
    },
    {
      "cell_type": "code",
      "metadata": {
        "id": "4DcvMhDB5qDJ"
      },
      "source": [
        "test_data = df.iloc[:]\n",
        "test_data.to_csv(\"data/test.txt\", index=None, header=None)"
      ],
      "execution_count": null,
      "outputs": []
    },
    {
      "cell_type": "markdown",
      "metadata": {
        "id": "iYx-srOWo9ny"
      },
      "source": [
        "# YOLOv4"
      ]
    },
    {
      "cell_type": "code",
      "metadata": {
        "colab": {
          "base_uri": "https://localhost:8080/"
        },
        "id": "4G3itOG6o84E",
        "outputId": "25c2beb9-a1c6-41a9-c25d-05705edd61e3"
      },
      "source": [
        "%cd /content/gdrive/MyDrive/VRDL_HW2/darknet"
      ],
      "execution_count": null,
      "outputs": [
        {
          "output_type": "stream",
          "name": "stdout",
          "text": [
            "/content/gdrive/MyDrive/VRDL_HW2/darknet\n"
          ]
        }
      ]
    },
    {
      "cell_type": "code",
      "metadata": {
        "id": "rmv78aYtpkc1"
      },
      "source": [
        "\"\"\"\n",
        "start training\n",
        "\"\"\"\n",
        "!chmod 777 darknet\n",
        "!./darknet detector train data/obj.data cfg/yolov4-obj.cfg yolov4.conv.137 -map -dont_show "
      ],
      "execution_count": null,
      "outputs": []
    },
    {
      "cell_type": "code",
      "metadata": {
        "id": "9PhnBswQpD6E"
      },
      "source": [
        "!chmod 777 darknet\n",
        "!./darknet detector train data/obj.data cfg/yolov4-obj.cfg backup/yolov4-obj_last.weights yolov4.conv.137 -dont_show -map"
      ],
      "execution_count": null,
      "outputs": []
    },
    {
      "cell_type": "markdown",
      "metadata": {
        "id": "-eVPzYQGe2sY"
      },
      "source": [
        "### validation data"
      ]
    },
    {
      "cell_type": "code",
      "metadata": {
        "id": "KLnM1_0-eupB"
      },
      "source": [
        "!chmod 777 darknet\n",
        "!./darknet detector map data/obj.data cfg/yolov4-obj.cfg backup/yolov4-obj_last.weights"
      ],
      "execution_count": null,
      "outputs": []
    },
    {
      "cell_type": "markdown",
      "metadata": {
        "id": "Icc6_Ccke8vI"
      },
      "source": [
        "### test data"
      ]
    },
    {
      "cell_type": "code",
      "metadata": {
        "id": "giMxbhSle_Mt"
      },
      "source": [
        "!chmod 777 ./darknet\n",
        "!./darknet detector test data/obj.data cfg/yolov4-obj.cfg backup/yolov4-obj_last.weights -dont_show -ext_output -out result.json < data/test.txt"
      ],
      "execution_count": null,
      "outputs": []
    },
    {
      "cell_type": "markdown",
      "metadata": {
        "id": "YsDBqRK62t-P"
      },
      "source": [
        "# general result"
      ]
    },
    {
      "cell_type": "code",
      "metadata": {
        "id": "PgK0kX0j-n3y"
      },
      "source": [
        "%cd /content/gdrive/My Drive/VRDL_HW2/darknet"
      ],
      "execution_count": null,
      "outputs": []
    },
    {
      "cell_type": "code",
      "metadata": {
        "id": "f0h8TiRs22rL"
      },
      "source": [
        "import os\n",
        "import json\n",
        "import cv2\n",
        "\n",
        "\n",
        "def extract_img(json):\n",
        "    try:\n",
        "        temp = json['filename'].rsplit('/', 1)[-1]\n",
        "        temp = int(temp.split('.', 1)[0])\n",
        "        return temp\n",
        "    except KeyError:\n",
        "        return 0\n",
        "\n",
        "with open('result.json', 'r') as reader:\n",
        "    jf = json.loads(reader.read())\n",
        "\n",
        "jf.sort(key=extract_img, reverse=False)\n",
        "\n",
        "sub = []\n",
        "cnt = 0\n",
        "r_c = 'relative_coordinates'\n",
        "for idx in jf:\n",
        "\n",
        "    path = os.getcwd()\n",
        "    img_path = os.path.join(path, idx['filename'])\n",
        "    image = cv2.imread(img_path)\n",
        "    h, w, _ = image.shape\n",
        "    for o in idx['objects']:\n",
        "\n",
        "        center_x = o[r_c]['center_x'] * w\n",
        "        center_y = o[r_c]['center_y'] * h\n",
        "        width = o[r_c]['width'] * w\n",
        "        height = o[r_c]['height'] * h\n",
        "\n",
        "        top = center_y - (height / 2)\n",
        "        left = center_x - (width / 2)\n",
        "\n",
        "        fname = idx['filename'].split('/')[2]\n",
        "        fname = fname.split('.png')[0]\n",
        "        dict_ = {}\n",
        "        dict_['image_id'] = int(fname)\n",
        "        dict_['score'] = o['confidence']\n",
        "        dict_['category_id'] = int(o['name'])\n",
        "        dict_['bbox'] = [left, top, width, height]\n",
        "\n",
        "        sub.append(dict_)\n",
        "    cnt += 1\n",
        "    if cnt % 100 == 0:\n",
        "        print(cnt)\n",
        "\n",
        "print(len(sub))\n",
        "ret = json.dumps(sub)\n",
        "with open('answer.json', 'w') as fp:\n",
        "    fp.write(ret)"
      ],
      "execution_count": null,
      "outputs": []
    },
    {
      "cell_type": "markdown",
      "metadata": {
        "id": "W4MT20nqSTFU"
      },
      "source": [
        "# Test speed"
      ]
    },
    {
      "cell_type": "code",
      "metadata": {
        "id": "bCysuiIquZQ6",
        "colab": {
          "base_uri": "https://localhost:8080/"
        },
        "outputId": "6bb54a99-7bb8-443d-ceaa-cf40147ad2df"
      },
      "source": [
        "%cd /content/gdrive/MyDrive/VRDL_HW2/darknet\n",
        "!chmod 777 ./darknet\n",
        "!chmod 777 ./test.sh"
      ],
      "execution_count": 2,
      "outputs": [
        {
          "output_type": "stream",
          "name": "stdout",
          "text": [
            "/content/gdrive/MyDrive/VRDL_HW2/darknet\n"
          ]
        }
      ]
    },
    {
      "cell_type": "code",
      "metadata": {
        "id": "-9BZlN4AURGD"
      },
      "source": [
        "import os\n",
        "import subprocess\n",
        "import time\n",
        "\n",
        "\n",
        "def file_cmp(a):\n",
        "    tmpa = a.lstrip('data/test/')\n",
        "    tmpa = int(tmpa.rstrip('.png\\n'))\n",
        "    return tmpa"
      ],
      "execution_count": 5,
      "outputs": []
    },
    {
      "cell_type": "code",
      "metadata": {
        "id": "hAAkcBKZSxiT"
      },
      "source": [
        "TEST_IMAGE_NUMBER = 100\n",
        "all_test = open('data/test.txt', 'r')\n",
        "save_test = open('data/test_speed.txt', 'w')\n",
        "file_list = []\n",
        "for item in all_test.readlines():\n",
        "    file_list.append(item)\n",
        "file_list.sort(key=lambda x: file_cmp(x))\n",
        "all_test.close()\n",
        "for i in range(TEST_IMAGE_NUMBER):\n",
        "    save_test.write(file_list[i])\n",
        "save_test.close()"
      ],
      "execution_count": 6,
      "outputs": []
    },
    {
      "cell_type": "code",
      "metadata": {
        "colab": {
          "base_uri": "https://localhost:8080/"
        },
        "id": "jZ0GaTDHXepQ",
        "outputId": "027830c1-c667-467f-b14b-9bfe02c95ca1"
      },
      "source": [
        "cmd = [\"./test.sh\"]\n",
        "start_time = time.time()\n",
        "p = subprocess.Popen(cmd, stdout=subprocess.PIPE)\n",
        "p.wait()\n",
        "end_time = time.time()\n",
        "print(\"\\nInference time per image: \",\n",
        "      (end_time - start_time) / TEST_IMAGE_NUMBER)"
      ],
      "execution_count": 15,
      "outputs": [
        {
          "output_type": "stream",
          "name": "stdout",
          "text": [
            "\n",
            "Inference time per image:  0.1481681799888611\n"
          ]
        }
      ]
    },
    {
      "cell_type": "code",
      "metadata": {
        "id": "e1iZXf3P6Rx7"
      },
      "source": [
        ""
      ],
      "execution_count": null,
      "outputs": []
    }
  ]
}
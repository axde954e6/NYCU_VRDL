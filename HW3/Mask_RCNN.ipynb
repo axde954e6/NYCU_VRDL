{
  "nbformat": 4,
  "nbformat_minor": 0,
  "metadata": {
    "colab": {
      "name": "Mask_RCNN.ipynb",
      "provenance": [],
      "collapsed_sections": [],
      "toc_visible": true
    },
    "kernelspec": {
      "display_name": "Python 3",
      "name": "python3"
    },
    "language_info": {
      "name": "python"
    }
  },
  "cells": [
    {
      "cell_type": "code",
      "metadata": {
        "colab": {
          "base_uri": "https://localhost:8080/"
        },
        "id": "S6h10DwsKC9v",
        "outputId": "8bd87cc5-2cf3-4d64-f363-05742ce5cb02"
      },
      "source": [
        "from google.colab import drive\n",
        "\n",
        "drive.mount('/content/gdrive/', force_remount=True)\n",
        "\n",
        "!ln -s '/content/gdrive/MyDrive/VRDL_HW' /WORK"
      ],
      "execution_count": null,
      "outputs": [
        {
          "output_type": "stream",
          "name": "stdout",
          "text": [
            "Mounted at /content/gdrive/\n"
          ]
        }
      ]
    },
    {
      "cell_type": "code",
      "metadata": {
        "id": "kQta2_XmKJ8R"
      },
      "source": [
        "%cd /content/gdrive/MyDrive/Mask_RCNN"
      ],
      "execution_count": null,
      "outputs": []
    },
    {
      "cell_type": "code",
      "metadata": {
        "id": "qOZurRSxKLvZ"
      },
      "source": [
        "!git clone https://github.com/matterport/Mask_RCNN.git"
      ],
      "execution_count": null,
      "outputs": []
    },
    {
      "cell_type": "code",
      "metadata": {
        "id": "vc-dMKtyKVFB"
      },
      "source": [
        "%cd /content/gdrive/MyDrive/Mask_RCNN/Mask_RCNN"
      ],
      "execution_count": null,
      "outputs": []
    },
    {
      "cell_type": "code",
      "metadata": {
        "id": "brDRE7X9KYKd"
      },
      "source": [
        "!pip3 install -r requirements.txt"
      ],
      "execution_count": null,
      "outputs": []
    },
    {
      "cell_type": "code",
      "metadata": {
        "id": "Wm1nINpZKZwZ"
      },
      "source": [
        "!python3 setup.py install"
      ],
      "execution_count": null,
      "outputs": []
    },
    {
      "cell_type": "code",
      "metadata": {
        "colab": {
          "base_uri": "https://localhost:8080/"
        },
        "id": "5wer-y4zLnTt",
        "outputId": "de36ab4e-7c41-45c4-c31d-9b8993e0e20c"
      },
      "source": [
        "%cd /content/gdrive/MyDrive/Mask_RCNN/Mask_RCNN/samples/nucleus"
      ],
      "execution_count": 12,
      "outputs": [
        {
          "output_type": "stream",
          "name": "stdout",
          "text": [
            "/content/gdrive/MyDrive/Mask_RCNN/Mask_RCNN/samples/nucleus\n"
          ]
        }
      ]
    },
    {
      "cell_type": "markdown",
      "metadata": {
        "id": "n5wdIlKaH6am"
      },
      "source": [
        "### training"
      ]
    },
    {
      "cell_type": "code",
      "metadata": {
        "id": "_03RxWKxUXfO"
      },
      "source": [
        "!python3 nucleus.py train --dataset=/content/gdrive/MyDrive/dataset/train4 --subset=train --weights=/content/gdrive/MyDrive/dataset/weight/model.h5"
      ],
      "execution_count": null,
      "outputs": []
    },
    {
      "cell_type": "code",
      "metadata": {
        "id": "XxFG7supH3ri"
      },
      "source": [
        "!python3 nucleus.py train --dataset=/content/gdrive/MyDrive/dataset/train4 --subset=train --weights=last"
      ],
      "execution_count": null,
      "outputs": []
    },
    {
      "cell_type": "markdown",
      "metadata": {
        "id": "70fndveMH4rs"
      },
      "source": [
        "### testing"
      ]
    },
    {
      "cell_type": "code",
      "metadata": {
        "id": "IpNRtytRLNN5"
      },
      "source": [
        "!python3 nucleus.py detect --dataset=/content/gdrive/MyDrive/dataset/test --subset=test --weights=/content/gdrive/MyDrive/dataset/weight/model_id4.h5"
      ],
      "execution_count": null,
      "outputs": []
    },
    {
      "cell_type": "markdown",
      "metadata": {
        "id": "FFe-Cc4IxkfO"
      },
      "source": [
        "## coco api"
      ]
    },
    {
      "cell_type": "code",
      "metadata": {
        "id": "OXXC0pT5xr7y"
      },
      "source": [
        "%cd /content/gdrive/MyDrive/Mask_RCNN"
      ],
      "execution_count": null,
      "outputs": []
    },
    {
      "cell_type": "code",
      "metadata": {
        "id": "00fr2YmHLsIb"
      },
      "source": [
        "!git clone https://github.com/cocodataset/cocoapi.git"
      ],
      "execution_count": null,
      "outputs": []
    },
    {
      "cell_type": "code",
      "metadata": {
        "id": "GuW_r6OLx84d"
      },
      "source": [
        "%cd /content/gdrive/MyDrive/Mask_RCNN/cocoapi/PythonAPI"
      ],
      "execution_count": null,
      "outputs": []
    },
    {
      "cell_type": "code",
      "metadata": {
        "id": "5JeSxAbZyDir"
      },
      "source": [
        "!make"
      ],
      "execution_count": null,
      "outputs": []
    },
    {
      "cell_type": "code",
      "metadata": {
        "id": "L8id7dqeyFSU"
      },
      "source": [
        "%cd /content/gdrive/MyDrive/Mask_RCNN/cocoapi/PythonAPI/pycocotools"
      ],
      "execution_count": null,
      "outputs": []
    },
    {
      "cell_type": "code",
      "metadata": {
        "id": "XdnEHrHoyYOo"
      },
      "source": [
        "!python mask_rle.py"
      ],
      "execution_count": null,
      "outputs": []
    },
    {
      "cell_type": "code",
      "metadata": {
        "id": "pXhRlS7lYZ4W"
      },
      "source": [
        ""
      ],
      "execution_count": null,
      "outputs": []
    }
  ]
}
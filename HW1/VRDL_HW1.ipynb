{
 "cells": [
  {
   "cell_type": "code",
   "execution_count": 1,
   "metadata": {
    "id": "0iCamZ_hzSpV"
   },
   "outputs": [],
   "source": [
    "import torch\n",
    "from torch import nn, optim\n",
    "import torch.nn.functional as F\n",
    "from torchvision import datasets, transforms, models\n",
    "from torch.utils.data import Dataset, DataLoader\n",
    "from torch.optim import lr_scheduler\n",
    "from PIL import Image\n",
    "import json\n",
    "import matplotlib.pyplot as plt\n",
    "import os\n",
    "import pandas as pd\n",
    "import time\n",
    "import torchvision.models as models\n",
    "from IPython.display import display\n",
    "import numpy as np\n",
    "import csv"
   ]
  },
  {
   "cell_type": "code",
   "execution_count": 2,
   "metadata": {
    "colab": {
     "base_uri": "https://localhost:8080/"
    },
    "id": "HfXQMFRMzZQJ",
    "outputId": "34d29c78-8f46-47f0-b42f-04b2dcab4ead"
   },
   "outputs": [
    {
     "name": "stdout",
     "output_type": "stream",
     "text": [
      "GPU state: cuda:0\n"
     ]
    }
   ],
   "source": [
    "# GPU\n",
    "device_name = \"cuda:0\" if torch.cuda.is_available() else \"cpu\"\n",
    "device = torch.device(device_name)\n",
    "print(\"GPU state:\", device)"
   ]
  },
  {
   "cell_type": "code",
   "execution_count": 3,
   "metadata": {
    "id": "ZuKXLM3yzqAh"
   },
   "outputs": [],
   "source": [
    "root_path = \"/content/drive/MyDrive/VRDL_HW/HW1\"\n",
    "train_path = root_path + \"/2021VRDL_HW1_datasets/training_images/\"\n",
    "test_path = root_path + \"/2021VRDL_HW1_datasets/testing_images/\"\n",
    "class_path = root_path + \"/2021VRDL_HW1_datasets/classes.txt\"\n",
    "train_label_path = root_path + \"/2021VRDL_HW1_datasets\"\n",
    "train_label_path += \"/training_labels.txt\""
   ]
  },
  {
   "cell_type": "code",
   "execution_count": 4,
   "metadata": {
    "id": "86pNfs7W0x4n"
   },
   "outputs": [],
   "source": [
    "class_name = {}\n",
    "class_list = []\n",
    "file = open(class_path)\n",
    "for line in file.readlines():\n",
    "    line = line.split(\".\")\n",
    "    class_name[line[1].strip(\"\\n\")] = int(line[0]) - 1\n",
    "    class_list.append(line[1].strip(\"\\n\"))\n",
    "file.close()"
   ]
  },
  {
   "cell_type": "code",
   "execution_count": 5,
   "metadata": {
    "id": "N2r3-KUrFsQW"
   },
   "outputs": [],
   "source": [
    "train_label = []\n",
    "train_id = []\n",
    "file = open(train_label_path)\n",
    "for line in file.readlines():\n",
    "    line = line.split()\n",
    "    train_id.append(int(line[0].split(\".\")[0]))\n",
    "    train_label.append(line[1].split(\".\")[1])"
   ]
  },
  {
   "cell_type": "code",
   "execution_count": 6,
   "metadata": {
    "id": "qcXfYKu-CjvA"
   },
   "outputs": [],
   "source": [
    "class TrainDataset(Dataset):\n",
    "    def __init__(self, id, label, path, transform=None):\n",
    "        self.path = path\n",
    "        self.id = id\n",
    "        self.labels = label\n",
    "        self.transform = transform\n",
    "\n",
    "    def __len__(self):\n",
    "        return len(self.id)\n",
    "\n",
    "    def __getitem__(self, idx):\n",
    "        img_file_name = self.path + \\\n",
    "            str(self.id[idx]).zfill(4) + \".jpg\"\n",
    "        img = Image.open(img_file_name).convert(\"RGB\")\n",
    "        label = class_name[self.labels[idx]]\n",
    "\n",
    "        if self.transform:\n",
    "            img = self.transform(img)\n",
    "\n",
    "        return img, label\n",
    "\n",
    "\n",
    "class TestDataset(Dataset):\n",
    "    def __init__(self, path, transform=None):\n",
    "        self.path = path\n",
    "        self.info = os.listdir(path)\n",
    "        self.transform = transform\n",
    "\n",
    "    def __len__(self):\n",
    "        return len(self.info)\n",
    "\n",
    "    def __getitem__(self, idx):\n",
    "        img_file_name = self.path + self.info[idx]\n",
    "        img = Image.open(img_file_name).convert(\"RGB\")\n",
    "        id = self.info[idx].split(\".\")[0]\n",
    "\n",
    "        if self.transform:\n",
    "            img = self.transform(img)\n",
    "\n",
    "        return img, id"
   ]
  },
  {
   "cell_type": "code",
   "execution_count": 9,
   "metadata": {
    "id": "_Ar8SdZ12FDm"
   },
   "outputs": [],
   "source": [
    "img_size = 256\n",
    "img_crop_size = 224\n",
    "mean = [0.485, 0.456, 0.406]\n",
    "std = [0.229, 0.224, 0.225]\n",
    "\n",
    "train_transform = transforms.Compose(\n",
    "    [\n",
    "        transforms.Resize((img_size, img_size)),\n",
    "        transforms.RandomHorizontalFlip(),\n",
    "        transforms.CenterCrop(img_crop_size),\n",
    "        transforms.ToTensor(),\n",
    "        transforms.Normalize(mean=mean, std=std),\n",
    "    ]\n",
    ")\n",
    "\n",
    "test_transform = transforms.Compose(\n",
    "    [\n",
    "        transforms.Resize((img_size, img_size)),\n",
    "        transforms.CenterCrop(img_crop_size),\n",
    "        transforms.ToTensor(),\n",
    "        transforms.Normalize(mean=mean, std=std),\n",
    "    ]\n",
    ")"
   ]
  },
  {
   "cell_type": "code",
   "execution_count": 10,
   "metadata": {
    "id": "woPfUDLsE4QT"
   },
   "outputs": [],
   "source": [
    "from torch.utils.data import random_split\n",
    "\n",
    "train_data = TrainDataset(\n",
    "    train_id, train_label, train_path, transform=train_transform\n",
    "    )\n",
    "test_data = TestDataset(\n",
    "    test_path, transform=test_transform\n",
    "    )\n",
    "# split validation\n",
    "train_data, valid_data = random_split(train_data, [2800, 200])\n",
    "\n",
    "batch_size = 32\n",
    "trainloader = DataLoader(\n",
    "    train_data, batch_size=batch_size, shuffle=True\n",
    "    )\n",
    "validloader = DataLoader(\n",
    "    valid_data, batch_size=32, shuffle=False\n",
    "    )\n",
    "testloader = DataLoader(\n",
    "    test_data, batch_size=32, shuffle=False\n",
    "    )"
   ]
  },
  {
   "cell_type": "code",
   "execution_count": null,
   "metadata": {
    "colab": {
     "base_uri": "https://localhost:8080/",
     "height": 66,
     "referenced_widgets": [
      "d65cc4ac5ae847948781f9226dbfa011",
      "9d515726a0fc4815a11d1f74a568393c",
      "afbb534290d84f3d8f2386e7b9cd2e66",
      "b0db8560310b43639ee0484a2a93ec02",
      "77d460e70751446cb8a1b0d9a338b280",
      "01424a55a9264b6c99595ea21a341a4d",
      "441f4adbadf14724829f2b0baca87454",
      "159093c08663445faef11608ff851136",
      "4e98df680ecb44f5a0c4b56fef8f9ac5",
      "e703fa28e06c4680ac3425fdfd20f9d5",
      "d5a387877cc1488398d45a778c82c001"
     ]
    },
    "id": "GwAC7WsaISVG",
    "outputId": "d87dbb47-bb06-4d8a-b566-830340f0bd59"
   },
   "outputs": [],
   "source": [
    "model = models.resnet50(pretrained=True)\n",
    "num_ftrs = model.fc.in_features\n",
    "model.fc = nn.Linear(num_ftrs, 200)\n",
    "criterion = nn.CrossEntropyLoss()\n",
    "optimizer = optim.SGD(\n",
    "    model.parameters(), lr=0.001, momentum=0.9\n",
    "    )\n",
    "exp_lr_scheduler = lr_scheduler.StepLR(\n",
    "    optimizer, step_size=6, gamma=0.1\n",
    "    )\n",
    "num_epochs = 50"
   ]
  },
  {
   "cell_type": "code",
   "execution_count": 12,
   "metadata": {
    "id": "hlFMO-wxzC23"
   },
   "outputs": [],
   "source": [
    "def cal_accuracy(net, loader):\n",
    "    correct = 0.0\n",
    "    total = 0.0\n",
    "    net.eval()\n",
    "    with torch.no_grad():\n",
    "        for img, labels in loader:\n",
    "            img = img.to(device)\n",
    "            labels = labels.to(device)\n",
    "            outputs = net(img)\n",
    "            _, predicted = torch.max(outputs.data, 1)\n",
    "            correct += (labels == predicted).sum().item()\n",
    "            total += len(labels)\n",
    "    return correct / total"
   ]
  },
  {
   "cell_type": "code",
   "execution_count": null,
   "metadata": {
    "colab": {
     "base_uri": "https://localhost:8080/"
    },
    "id": "aYqWNYfPInxQ",
    "outputId": "dbc00e70-8542-4e89-ed80-c85347c7c6cd"
   },
   "outputs": [],
   "source": [
    "now_max_acc = 0.5\n",
    "model.to(device)\n",
    "model.train()\n",
    "begin = time.time()\n",
    "print(\"----------Training Begin----------\")\n",
    "for epoch in range(num_epochs):\n",
    "    since = time.time()\n",
    "    running_loss = 0.0\n",
    "    running_correct = 0.0\n",
    "    running_total = 0.0\n",
    "    now = 0\n",
    "    for inputs, labels in trainloader:\n",
    "\n",
    "        # get the inputs and assign them to cuda\n",
    "        inputs, labels = inputs.to(device), labels.to(device)\n",
    "        optimizer.zero_grad()\n",
    "\n",
    "        # forward + backward + optimize\n",
    "        outputs = model.forward(inputs)\n",
    "        _, predicted = torch.max(outputs.data, 1)\n",
    "        loss = criterion(outputs, labels)\n",
    "        loss.backward()\n",
    "        optimizer.step()\n",
    "\n",
    "        # calculate the loss/acc later\n",
    "        running_loss += loss.item()\n",
    "        running_correct += (labels == predicted).sum().item()\n",
    "        running_total += len(labels)\n",
    "\n",
    "    epoch_loss = running_loss / len(trainloader)\n",
    "    epoch_acc = running_correct / running_total\n",
    "    valid_acc = cal_accuracy(model, validloader)\n",
    "    epoch_duration = time.time() - since\n",
    "    print(\n",
    "        \"Epoch %s/%s, loss: %.4f, acc: %.4f valid acc: %.4f\"\n",
    "        % (epoch + 1, num_epochs, epoch_loss, epoch_acc, valid_acc)\n",
    "    )\n",
    "\n",
    "    exp_lr_scheduler.step()\n",
    "    model_save_path = root_path + \"/model.pth\"\n",
    "    if valid_acc >= now_max_acc:\n",
    "        torch.save(model, model_save_path)\n",
    "        now_max_acc = valid_acc\n",
    "\n",
    "print(\n",
    "    \"Finished Training, total time: {}\".format(time.time() - begin)\n",
    "    )"
   ]
  },
  {
   "cell_type": "code",
   "execution_count": null,
   "metadata": {
    "id": "9KCvtSthpO98"
   },
   "outputs": [],
   "source": [
    "# Load model\n",
    "model_1 = torch.load(root_path + \"/model_1.pth\")\n",
    "model_2 = torch.load(root_path + \"/model_2.pth\")\n",
    "model_3 = torch.load(root_path + \"/model_3.pth\")\n",
    "model_4 = torch.load(root_path + \"/model_4.pth\")"
   ]
  },
  {
   "cell_type": "code",
   "execution_count": null,
   "metadata": {
    "colab": {
     "base_uri": "https://localhost:8080/"
    },
    "id": "zqXvW736p6AC",
    "outputId": "aa5e979d-5e6a-47c6-e950-ead889e80666"
   },
   "outputs": [
    {
     "name": "stdout",
     "output_type": "stream",
     "text": [
      "----------Start Predicting----------\n",
      "Predicting finished, time needed: 47.430903911590576sec\n",
      "----------Start Predicting----------\n",
      "Predicting finished, time needed: 46.83012628555298sec\n",
      "----------Start Predicting----------\n",
      "Predicting finished, time needed: 46.89465355873108sec\n",
      "----------Start Predicting----------\n",
      "Predicting finished, time needed: 47.23994326591492sec\n"
     ]
    }
   ],
   "source": [
    "def get_predict(net):\n",
    "    print(\"----------Start Predicting----------\")\n",
    "    begin = time.time()\n",
    "    since = time.time()\n",
    "    result = []\n",
    "    net.eval()\n",
    "    with torch.no_grad():\n",
    "        for img, id in testloader:\n",
    "\n",
    "            img = img.to(device)\n",
    "\n",
    "            outputs = net(img)\n",
    "            _, predicted = torch.max(outputs.data, 1)\n",
    "\n",
    "            for i in range(len(predicted)):\n",
    "                pred = []\n",
    "                pred.append(id[i])\n",
    "                pred.append(list(class_name)[predicted[i]])\n",
    "                result.append(pred)\n",
    "    print(\n",
    "        \"Predicting finished, time needed: {}sec\"\\\n",
    "        .format(time.time() - begin)\n",
    "        )\n",
    "    ans = {}\n",
    "    for item in result:\n",
    "        ans[item[0] + \".jpg\"] = \\\n",
    "            str(class_name[item[1]] + 1).zfill(3) + \".\" + item[1]\n",
    "    return ans\n",
    "\n",
    "\n",
    "ans_1 = get_predict(model_1)\n",
    "ans_2 = get_predict(model_2)\n",
    "ans_3 = get_predict(model_3)\n",
    "ans_4 = get_predict(model_4)"
   ]
  },
  {
   "cell_type": "code",
   "execution_count": null,
   "metadata": {
    "id": "6MhFYNu1vZYQ"
   },
   "outputs": [],
   "source": [
    "order_path = root_path + \"/answer_order.txt\"\n",
    "result_path = root_path + \"/answer.txt\"\n",
    "\n",
    "order_file = open(order_path, \"r\")\n",
    "txt_result = []\n",
    "for line in order_file.readlines():\n",
    "\n",
    "    predict_1 = ans_1[line.split()[0]]\n",
    "    predict_2 = ans_2[line.split()[0]]\n",
    "    predict_3 = ans_3[line.split()[0]]\n",
    "    predict_4 = ans_4[line.split()[0]]\n",
    "\n",
    "    # 4 models vote\n",
    "    now_predict = predict_1  # default predict_1 is the most\n",
    "    if (predict_2 == predict_3 and predict_3 == predict_4) or (\n",
    "        predict_2 == predict_3 and predict_1 != predict_4\n",
    "    ):\n",
    "        # predict_2 is the most\n",
    "        now_predict = predict_2\n",
    "    elif (predict_1 != predict_2 and predict_3 == predict_4) or (\n",
    "        predict_1 != predict_3 and predict_2 == predict_4\n",
    "    ):\n",
    "        # predict_4 is the most\n",
    "        now_predict = predict_4\n",
    "\n",
    "    txt_result.append(line.split()[0] + \" \" + now_predict)\n",
    "order_file.close()\n",
    "\n",
    "result_file = open(result_path, \"w\")\n",
    "for item in txt_result:\n",
    "    result_file.write(str(item) + \"\\n\")\n",
    "result_file.close()"
   ]
  }
 ],
 "metadata": {
  "accelerator": "GPU",
  "colab": {
   "collapsed_sections": [],
   "name": "VRDL_HW1.ipynb",
   "provenance": []
  },
  "kernelspec": {
   "display_name": "Python 3",
   "name": "python3"
  },
  "language_info": {
   "name": "python"
  },
  "widgets": {
   "application/vnd.jupyter.widget-state+json": {
    "01424a55a9264b6c99595ea21a341a4d": {
     "model_module": "@jupyter-widgets/controls",
     "model_module_version": "1.5.0",
     "model_name": "DescriptionStyleModel",
     "state": {
      "_model_module": "@jupyter-widgets/controls",
      "_model_module_version": "1.5.0",
      "_model_name": "DescriptionStyleModel",
      "_view_count": null,
      "_view_module": "@jupyter-widgets/base",
      "_view_module_version": "1.2.0",
      "_view_name": "StyleView",
      "description_width": ""
     }
    },
    "159093c08663445faef11608ff851136": {
     "model_module": "@jupyter-widgets/controls",
     "model_module_version": "1.5.0",
     "model_name": "ProgressStyleModel",
     "state": {
      "_model_module": "@jupyter-widgets/controls",
      "_model_module_version": "1.5.0",
      "_model_name": "ProgressStyleModel",
      "_view_count": null,
      "_view_module": "@jupyter-widgets/base",
      "_view_module_version": "1.2.0",
      "_view_name": "StyleView",
      "bar_color": null,
      "description_width": ""
     }
    },
    "441f4adbadf14724829f2b0baca87454": {
     "model_module": "@jupyter-widgets/base",
     "model_module_version": "1.2.0",
     "model_name": "LayoutModel",
     "state": {
      "_model_module": "@jupyter-widgets/base",
      "_model_module_version": "1.2.0",
      "_model_name": "LayoutModel",
      "_view_count": null,
      "_view_module": "@jupyter-widgets/base",
      "_view_module_version": "1.2.0",
      "_view_name": "LayoutView",
      "align_content": null,
      "align_items": null,
      "align_self": null,
      "border": null,
      "bottom": null,
      "display": null,
      "flex": null,
      "flex_flow": null,
      "grid_area": null,
      "grid_auto_columns": null,
      "grid_auto_flow": null,
      "grid_auto_rows": null,
      "grid_column": null,
      "grid_gap": null,
      "grid_row": null,
      "grid_template_areas": null,
      "grid_template_columns": null,
      "grid_template_rows": null,
      "height": null,
      "justify_content": null,
      "justify_items": null,
      "left": null,
      "margin": null,
      "max_height": null,
      "max_width": null,
      "min_height": null,
      "min_width": null,
      "object_fit": null,
      "object_position": null,
      "order": null,
      "overflow": null,
      "overflow_x": null,
      "overflow_y": null,
      "padding": null,
      "right": null,
      "top": null,
      "visibility": null,
      "width": null
     }
    },
    "4e98df680ecb44f5a0c4b56fef8f9ac5": {
     "model_module": "@jupyter-widgets/base",
     "model_module_version": "1.2.0",
     "model_name": "LayoutModel",
     "state": {
      "_model_module": "@jupyter-widgets/base",
      "_model_module_version": "1.2.0",
      "_model_name": "LayoutModel",
      "_view_count": null,
      "_view_module": "@jupyter-widgets/base",
      "_view_module_version": "1.2.0",
      "_view_name": "LayoutView",
      "align_content": null,
      "align_items": null,
      "align_self": null,
      "border": null,
      "bottom": null,
      "display": null,
      "flex": null,
      "flex_flow": null,
      "grid_area": null,
      "grid_auto_columns": null,
      "grid_auto_flow": null,
      "grid_auto_rows": null,
      "grid_column": null,
      "grid_gap": null,
      "grid_row": null,
      "grid_template_areas": null,
      "grid_template_columns": null,
      "grid_template_rows": null,
      "height": null,
      "justify_content": null,
      "justify_items": null,
      "left": null,
      "margin": null,
      "max_height": null,
      "max_width": null,
      "min_height": null,
      "min_width": null,
      "object_fit": null,
      "object_position": null,
      "order": null,
      "overflow": null,
      "overflow_x": null,
      "overflow_y": null,
      "padding": null,
      "right": null,
      "top": null,
      "visibility": null,
      "width": null
     }
    },
    "77d460e70751446cb8a1b0d9a338b280": {
     "model_module": "@jupyter-widgets/controls",
     "model_module_version": "1.5.0",
     "model_name": "HTMLModel",
     "state": {
      "_dom_classes": [],
      "_model_module": "@jupyter-widgets/controls",
      "_model_module_version": "1.5.0",
      "_model_name": "HTMLModel",
      "_view_count": null,
      "_view_module": "@jupyter-widgets/controls",
      "_view_module_version": "1.5.0",
      "_view_name": "HTMLView",
      "description": "",
      "description_tooltip": null,
      "layout": "IPY_MODEL_d5a387877cc1488398d45a778c82c001",
      "placeholder": "​",
      "style": "IPY_MODEL_e703fa28e06c4680ac3425fdfd20f9d5",
      "value": " 97.8M/97.8M [00:01&lt;00:00, 97.2MB/s]"
     }
    },
    "9d515726a0fc4815a11d1f74a568393c": {
     "model_module": "@jupyter-widgets/base",
     "model_module_version": "1.2.0",
     "model_name": "LayoutModel",
     "state": {
      "_model_module": "@jupyter-widgets/base",
      "_model_module_version": "1.2.0",
      "_model_name": "LayoutModel",
      "_view_count": null,
      "_view_module": "@jupyter-widgets/base",
      "_view_module_version": "1.2.0",
      "_view_name": "LayoutView",
      "align_content": null,
      "align_items": null,
      "align_self": null,
      "border": null,
      "bottom": null,
      "display": null,
      "flex": null,
      "flex_flow": null,
      "grid_area": null,
      "grid_auto_columns": null,
      "grid_auto_flow": null,
      "grid_auto_rows": null,
      "grid_column": null,
      "grid_gap": null,
      "grid_row": null,
      "grid_template_areas": null,
      "grid_template_columns": null,
      "grid_template_rows": null,
      "height": null,
      "justify_content": null,
      "justify_items": null,
      "left": null,
      "margin": null,
      "max_height": null,
      "max_width": null,
      "min_height": null,
      "min_width": null,
      "object_fit": null,
      "object_position": null,
      "order": null,
      "overflow": null,
      "overflow_x": null,
      "overflow_y": null,
      "padding": null,
      "right": null,
      "top": null,
      "visibility": null,
      "width": null
     }
    },
    "afbb534290d84f3d8f2386e7b9cd2e66": {
     "model_module": "@jupyter-widgets/controls",
     "model_module_version": "1.5.0",
     "model_name": "HTMLModel",
     "state": {
      "_dom_classes": [],
      "_model_module": "@jupyter-widgets/controls",
      "_model_module_version": "1.5.0",
      "_model_name": "HTMLModel",
      "_view_count": null,
      "_view_module": "@jupyter-widgets/controls",
      "_view_module_version": "1.5.0",
      "_view_name": "HTMLView",
      "description": "",
      "description_tooltip": null,
      "layout": "IPY_MODEL_441f4adbadf14724829f2b0baca87454",
      "placeholder": "​",
      "style": "IPY_MODEL_01424a55a9264b6c99595ea21a341a4d",
      "value": "100%"
     }
    },
    "b0db8560310b43639ee0484a2a93ec02": {
     "model_module": "@jupyter-widgets/controls",
     "model_module_version": "1.5.0",
     "model_name": "FloatProgressModel",
     "state": {
      "_dom_classes": [],
      "_model_module": "@jupyter-widgets/controls",
      "_model_module_version": "1.5.0",
      "_model_name": "FloatProgressModel",
      "_view_count": null,
      "_view_module": "@jupyter-widgets/controls",
      "_view_module_version": "1.5.0",
      "_view_name": "ProgressView",
      "bar_style": "success",
      "description": "",
      "description_tooltip": null,
      "layout": "IPY_MODEL_4e98df680ecb44f5a0c4b56fef8f9ac5",
      "max": 102530333,
      "min": 0,
      "orientation": "horizontal",
      "style": "IPY_MODEL_159093c08663445faef11608ff851136",
      "value": 102530333
     }
    },
    "d5a387877cc1488398d45a778c82c001": {
     "model_module": "@jupyter-widgets/base",
     "model_module_version": "1.2.0",
     "model_name": "LayoutModel",
     "state": {
      "_model_module": "@jupyter-widgets/base",
      "_model_module_version": "1.2.0",
      "_model_name": "LayoutModel",
      "_view_count": null,
      "_view_module": "@jupyter-widgets/base",
      "_view_module_version": "1.2.0",
      "_view_name": "LayoutView",
      "align_content": null,
      "align_items": null,
      "align_self": null,
      "border": null,
      "bottom": null,
      "display": null,
      "flex": null,
      "flex_flow": null,
      "grid_area": null,
      "grid_auto_columns": null,
      "grid_auto_flow": null,
      "grid_auto_rows": null,
      "grid_column": null,
      "grid_gap": null,
      "grid_row": null,
      "grid_template_areas": null,
      "grid_template_columns": null,
      "grid_template_rows": null,
      "height": null,
      "justify_content": null,
      "justify_items": null,
      "left": null,
      "margin": null,
      "max_height": null,
      "max_width": null,
      "min_height": null,
      "min_width": null,
      "object_fit": null,
      "object_position": null,
      "order": null,
      "overflow": null,
      "overflow_x": null,
      "overflow_y": null,
      "padding": null,
      "right": null,
      "top": null,
      "visibility": null,
      "width": null
     }
    },
    "d65cc4ac5ae847948781f9226dbfa011": {
     "model_module": "@jupyter-widgets/controls",
     "model_module_version": "1.5.0",
     "model_name": "HBoxModel",
     "state": {
      "_dom_classes": [],
      "_model_module": "@jupyter-widgets/controls",
      "_model_module_version": "1.5.0",
      "_model_name": "HBoxModel",
      "_view_count": null,
      "_view_module": "@jupyter-widgets/controls",
      "_view_module_version": "1.5.0",
      "_view_name": "HBoxView",
      "box_style": "",
      "children": [
       "IPY_MODEL_afbb534290d84f3d8f2386e7b9cd2e66",
       "IPY_MODEL_b0db8560310b43639ee0484a2a93ec02",
       "IPY_MODEL_77d460e70751446cb8a1b0d9a338b280"
      ],
      "layout": "IPY_MODEL_9d515726a0fc4815a11d1f74a568393c"
     }
    },
    "e703fa28e06c4680ac3425fdfd20f9d5": {
     "model_module": "@jupyter-widgets/controls",
     "model_module_version": "1.5.0",
     "model_name": "DescriptionStyleModel",
     "state": {
      "_model_module": "@jupyter-widgets/controls",
      "_model_module_version": "1.5.0",
      "_model_name": "DescriptionStyleModel",
      "_view_count": null,
      "_view_module": "@jupyter-widgets/base",
      "_view_module_version": "1.2.0",
      "_view_name": "StyleView",
      "description_width": ""
     }
    }
   }
  }
 },
 "nbformat": 4,
 "nbformat_minor": 0
}
